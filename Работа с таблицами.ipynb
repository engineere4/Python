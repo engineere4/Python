{
 "cells": [
  {
   "cell_type": "code",
   "execution_count": 114,
   "metadata": {
    "collapsed": true
   },
   "outputs": [],
   "source": [
    "import pandas as pd\n",
    "import numpy as np"
   ]
  },
  {
   "cell_type": "code",
   "execution_count": 121,
   "metadata": {},
   "outputs": [],
   "source": [
    "table1 = pd.read_csv('user-list-data.0.csv')\n",
    "table2 = pd.read_csv('user-list-data.1.csv')\n",
    "frames = [table1, table2]\n",
    "table = pd.concat(frames)\n",
    "us_users = table1[table1['country']=='US']\n",
    "nonus_users = table1[table1['country']!='US']\n",
    "us_users.to_csv('us_users.csv')\n",
    "nonus_users.to_csv('nonus_users.csv')"
   ]
  }
 ],
 "metadata": {
  "anaconda-cloud": {},
  "kernelspec": {
   "display_name": "Python [default]",
   "language": "python",
   "name": "python2"
  },
  "language_info": {
   "codemirror_mode": {
    "name": "ipython",
    "version": 2
   },
   "file_extension": ".py",
   "mimetype": "text/x-python",
   "name": "python",
   "nbconvert_exporter": "python",
   "pygments_lexer": "ipython2",
   "version": "2.7.12"
  }
 },
 "nbformat": 4,
 "nbformat_minor": 1
}
