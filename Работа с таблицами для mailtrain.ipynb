{
 "cells": [
  {
   "cell_type": "code",
   "execution_count": 189,
   "metadata": {
    "collapsed": true
   },
   "outputs": [],
   "source": [
    "import pandas as pd"
   ]
  },
  {
   "cell_type": "code",
   "execution_count": 190,
   "metadata": {
    "collapsed": true
   },
   "outputs": [],
   "source": [
    "# подгружаю исходные файлы\n",
    "table1 = pd.read_csv('user-list-data.0.csv')\n",
    "table2 = pd.read_csv('user-list-data.1.csv')"
   ]
  },
  {
   "cell_type": "code",
   "execution_count": 191,
   "metadata": {},
   "outputs": [],
   "source": [
    "# соединяю таблицы, чищу таблицы от #\n",
    "table_cleared = pd.concat([table1, table2])[pd.concat([table1, table2])['username'].str.contains('#')!=True]"
   ]
  },
  {
   "cell_type": "code",
   "execution_count": 192,
   "metadata": {
    "collapsed": true
   },
   "outputs": [],
   "source": [
    "# создаю таблицы для US/nonUS\n",
    "us_users = table1[table1['country']=='US']\n",
    "nonus_users = table1[table1['country']!='US']\n",
    "nonus_users = nonus_users[nonus_users['username'].str.contains('#')!=True]"
   ]
  },
  {
   "cell_type": "code",
   "execution_count": 193,
   "metadata": {
    "collapsed": true
   },
   "outputs": [],
   "source": [
    "# складываю полученные таблицы\n",
    "us_users.to_csv('us_users.csv')\n",
    "nonus_users.to_csv('nonus_users.csv')"
   ]
  }
 ],
 "metadata": {
  "anaconda-cloud": {},
  "kernelspec": {
   "display_name": "Python [default]",
   "language": "python",
   "name": "python2"
  },
  "language_info": {
   "codemirror_mode": {
    "name": "ipython",
    "version": 2
   },
   "file_extension": ".py",
   "mimetype": "text/x-python",
   "name": "python",
   "nbconvert_exporter": "python",
   "pygments_lexer": "ipython2",
   "version": "2.7.12"
  }
 },
 "nbformat": 4,
 "nbformat_minor": 1
}
