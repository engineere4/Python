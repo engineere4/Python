{
 "cells": [
  {
   "cell_type": "code",
   "execution_count": 238,
   "metadata": {},
   "outputs": [],
   "source": [
    "import pandas as pd\n",
    "import numpy as np"
   ]
  },
  {
   "cell_type": "code",
   "execution_count": 239,
   "metadata": {},
   "outputs": [],
   "source": [
    "# подгружаю исходные файлы\n",
    "table1 = pd.read_csv('user-list-data.0.csv')\n",
    "table2 = pd.read_csv('user-list-data.1.csv')\n",
    "table3 = pd.read_csv('user-list-data.2.csv')\n",
    "table4 = pd.read_csv('user-list-data.3.csv')"
   ]
  },
  {
   "cell_type": "code",
   "execution_count": 240,
   "metadata": {},
   "outputs": [],
   "source": [
    "# соединяю таблицы, чищу таблицы от #\n",
    "table_cleared = pd.concat([table1, table2, table3, table4])[pd.concat([table1, table2, table3, table4])['username'].str.contains('#')!=True]"
   ]
  },
  {
   "cell_type": "code",
   "execution_count": 241,
   "metadata": {
    "collapsed": true
   },
   "outputs": [],
   "source": [
    "# создаю таблицы для US/nonUS\n",
    "us_users = table_cleared[table_cleared['country']=='US']\n",
    "nonus_users = table_cleared[table_cleared['country']!='US']"
   ]
  },
  {
   "cell_type": "code",
   "execution_count": 242,
   "metadata": {},
   "outputs": [
    {
     "data": {
      "text/plain": [
       "(112590, 5)"
      ]
     },
     "execution_count": 242,
     "metadata": {},
     "output_type": "execute_result"
    }
   ],
   "source": [
    "us_users.shape"
   ]
  },
  {
   "cell_type": "code",
   "execution_count": 243,
   "metadata": {},
   "outputs": [
    {
     "data": {
      "text/plain": [
       "(384269, 5)"
      ]
     },
     "execution_count": 243,
     "metadata": {},
     "output_type": "execute_result"
    }
   ],
   "source": [
    "nonus_users.shape"
   ]
  },
  {
   "cell_type": "code",
   "execution_count": 244,
   "metadata": {},
   "outputs": [],
   "source": [
    "# складываю полученные таблицы c разбиением по 100К строк\n",
    "for g, df in us_users.groupby(np.arange(len(us_users)) // 100000):\n",
    "    df.to_csv('us_users'+str(g)+'.csv')\n",
    "for g, df in nonus_users.groupby(np.arange(len(nonus_users)) // 100000):\n",
    "    df.to_csv('nonus_users'+str(g)+'.csv')"
   ]
  },
  {
   "cell_type": "code",
   "execution_count": null,
   "metadata": {
    "collapsed": true
   },
   "outputs": [],
   "source": []
  }
 ],
 "metadata": {
  "anaconda-cloud": {},
  "kernelspec": {
   "display_name": "Python [default]",
   "language": "python",
   "name": "python2"
  },
  "language_info": {
   "codemirror_mode": {
    "name": "ipython",
    "version": 2
   },
   "file_extension": ".py",
   "mimetype": "text/x-python",
   "name": "python",
   "nbconvert_exporter": "python",
   "pygments_lexer": "ipython2",
   "version": "2.7.12"
  }
 },
 "nbformat": 4,
 "nbformat_minor": 1
}
