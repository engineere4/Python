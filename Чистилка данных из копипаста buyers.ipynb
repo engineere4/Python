{
 "cells": [
  {
   "cell_type": "code",
   "execution_count": 204,
   "metadata": {
    "collapsed": true
   },
   "outputs": [],
   "source": [
    "import pandas as pd\n",
    "import numpy as np\n",
    "import re"
   ]
  },
  {
   "cell_type": "code",
   "execution_count": 205,
   "metadata": {
    "collapsed": true
   },
   "outputs": [],
   "source": [
    "# чтение файла\n",
    "db = pd.read_csv('test_file.csv',sep = ';')"
   ]
  },
  {
   "cell_type": "code",
   "execution_count": 206,
   "metadata": {
    "collapsed": true
   },
   "outputs": [],
   "source": [
    "# удаляем ненужную шляпу\n",
    "db1 = db[db['Date']>1]\n",
    "db2 = db1.reindex(columns=['Date','Hits','Users started', 'Users subscribed'])"
   ]
  },
  {
   "cell_type": "code",
   "execution_count": 207,
   "metadata": {},
   "outputs": [],
   "source": [
    "# если надо ебунть текущий день\n",
    "db2 = db2.drop(db2.index[len(db2)-1])"
   ]
  },
  {
   "cell_type": "code",
   "execution_count": 208,
   "metadata": {},
   "outputs": [],
   "source": [
    "# заменяем ненужные символы на ';'\n",
    "db2['Users started'] = db2['Users started'].str.replace('[()]','')\n",
    "db2['Hits'] = db2['Hits'].str.replace('[()]','')\n",
    "db2['Users subscribed'] = db2['Users subscribed'].str.replace('[()]','')\n",
    "db2['Users started'] = db2['Users started'].str.replace('\\s', ';', flags=re.UNICODE)"
   ]
  },
  {
   "cell_type": "code",
   "execution_count": 209,
   "metadata": {},
   "outputs": [],
   "source": [
    "# делаем новые столбцы, попутно заменяя хитрые и не очень пробелы на ;  регекспом\n",
    "db2['Started'] = db2['Users started'].str.replace('\\s', ';', flags=re.UNICODE).apply(lambda x: x.split(';')[0])\n",
    "db2['Registered'] = db2['Users started'].str.replace('\\s', ';', flags=re.UNICODE).apply(lambda x: x.split(';')[2])\n",
    "db2['Unique_users'] = db2['Hits'].str.replace(' ', ';', flags=re.UNICODE).apply(lambda x: x.split(';')[-1])\n",
    "db2['Date'] = db2['Date'].str.replace(', ', ';', flags=re.UNICODE).apply(lambda x: x.split(';')[0])\n",
    "db2['All_subscribes'] = db2['Users subscribed'].str.replace(' ', ';', flags=re.UNICODE).apply(lambda x: x.split(';')[0])"
   ]
  },
  {
   "cell_type": "code",
   "execution_count": 210,
   "metadata": {
    "collapsed": true
   },
   "outputs": [],
   "source": [
    "# удаляем использованные колонки\n",
    "del db2['Users started']\n",
    "del db2['Hits']\n",
    "del db2['Users subscribed']"
   ]
  },
  {
   "cell_type": "code",
   "execution_count": 211,
   "metadata": {},
   "outputs": [],
   "source": [
    "# приводим даты к нормальному формату\n",
    "#db2['Date'] = pd.to_datetime(db2['Date'])\n",
    "db2['Started'] = pd.to_numeric(db2['Started'])\n",
    "db2['Registered'] = pd.to_numeric(db2['Registered'])\n",
    "db2['Unique_users'] = pd.to_numeric(db2['Unique_users'])\n",
    "db2['All_subscribes'] = pd.to_numeric(db2['All_subscribes'])"
   ]
  },
  {
   "cell_type": "code",
   "execution_count": 212,
   "metadata": {},
   "outputs": [],
   "source": [
    "# пишем на очищенную таблицу, ура.\n",
    "db2.to_csv('cleared_data.csv', index = None, sep = ';')"
   ]
  }
 ],
 "metadata": {
  "anaconda-cloud": {},
  "kernelspec": {
   "display_name": "Python [default]",
   "language": "python",
   "name": "python2"
  },
  "language_info": {
   "codemirror_mode": {
    "name": "ipython",
    "version": 2
   },
   "file_extension": ".py",
   "mimetype": "text/x-python",
   "name": "python",
   "nbconvert_exporter": "python",
   "pygments_lexer": "ipython2",
   "version": "2.7.12"
  }
 },
 "nbformat": 4,
 "nbformat_minor": 1
}
